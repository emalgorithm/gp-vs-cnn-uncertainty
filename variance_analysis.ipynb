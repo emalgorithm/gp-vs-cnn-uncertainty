{
 "cells": [
  {
   "cell_type": "code",
   "execution_count": 1,
   "metadata": {},
   "outputs": [],
   "source": [
    "%load_ext autoreload\n",
    "\n",
    "%autoreload 2\n",
    "\n",
    "import gpytorch\n",
    "from models_util import load_combined_model, test_model, test_model_with_rejection, test_cnn_model, test_cnn_model_with_rejection, compare_rejection_models\n",
    "from data_util import get_data_loader#, read_data\n",
    "import matplotlib.pyplot as plt\n",
    "import numpy as np\n",
    "import matplotlib\n",
    "import pylab\n",
    "# from keras.models import load_model\n",
    "# import torchvision.transforms as transforms\n",
    "# import torchvision.datasets as dset\n",
    "# import torch"
   ]
  },
  {
   "cell_type": "code",
   "execution_count": 2,
   "metadata": {},
   "outputs": [],
   "source": [
    "cnn_model = load_model('models/CNN_mnist_model.h5')"
   ]
  },
  {
   "cell_type": "markdown",
   "metadata": {},
   "source": [
    "## GP Model"
   ]
  },
  {
   "cell_type": "code",
   "execution_count": 2,
   "metadata": {},
   "outputs": [],
   "source": [
    "model, likelihood = load_combined_model('models/gp_mnist2.dat')"
   ]
  },
  {
   "cell_type": "markdown",
   "metadata": {},
   "source": [
    "## AWGN Data"
   ]
  },
  {
   "cell_type": "markdown",
   "metadata": {},
   "source": [
    "### Standard"
   ]
  },
  {
   "cell_type": "code",
   "execution_count": 3,
   "metadata": {},
   "outputs": [
    {
     "name": "stdout",
     "output_type": "stream",
     "text": [
      "GP test set: Accuracy: 9471/10000 (94%)\n"
     ]
    }
   ],
   "source": [
    "test_loader = get_data_loader('data/mnist-with-awgn.mat')\n",
    "\n",
    "with gpytorch.settings.use_toeplitz(False), gpytorch.settings.max_preconditioner_size(0):\n",
    "    correct_awgn_var, wrong_awgn_var = test_model(model, likelihood, test_loader)"
   ]
  },
  {
   "cell_type": "code",
   "execution_count": 4,
   "metadata": {},
   "outputs": [
    {
     "name": "stdout",
     "output_type": "stream",
     "text": [
      "Correct average variance is 0.011881809681653976\n",
      "Wrong average variance is 0.06882140785455704\n"
     ]
    }
   ],
   "source": [
    "print(\"Correct average variance is {}\".format(correct_awgn_var.mean()))\n",
    "print(\"Wrong average variance is {}\".format(wrong_awgn_var.mean()))"
   ]
  },
  {
   "cell_type": "code",
   "execution_count": 10,
   "metadata": {},
   "outputs": [
    {
     "name": "stdout",
     "output_type": "stream",
     "text": [
      "CNN Test accuracy: 0.9207\n"
     ]
    }
   ],
   "source": [
    "correct_cnn_awgn_var, wrong_cnn_awgn_var = test_cnn_model(cnn_model, 'data/mnist-with-awgn.mat')"
   ]
  },
  {
   "cell_type": "code",
   "execution_count": 11,
   "metadata": {},
   "outputs": [
    {
     "name": "stdout",
     "output_type": "stream",
     "text": [
      "Correct CNN average variance is 0.007004745304584503\n",
      "Wrong CNN average variance is 0.002199931535869837\n"
     ]
    }
   ],
   "source": [
    "print(\"Correct CNN average variance is {}\".format(correct_cnn_awgn_var.mean()))\n",
    "print(\"Wrong CNN average variance is {}\".format(wrong_cnn_awgn_var.mean()))"
   ]
  },
  {
   "cell_type": "markdown",
   "metadata": {},
   "source": [
    "### With Rejection"
   ]
  },
  {
   "cell_type": "code",
   "execution_count": 4,
   "metadata": {},
   "outputs": [
    {
     "name": "stdout",
     "output_type": "stream",
     "text": [
      "Penalty: 1\n",
      "GP test set: Score: 7413 on 10000 samples\n",
      "CNN Test Score: 8414\n",
      "\n",
      "\n",
      "Penalty: 3\n",
      "GP test set: Score: 7373 on 10000 samples\n",
      "CNN Test Score: 6828\n",
      "\n",
      "\n",
      "Penalty: 5\n",
      "GP test set: Score: 7341 on 10000 samples\n",
      "CNN Test Score: 5242\n",
      "\n",
      "\n",
      "Penalty: 7\n",
      "GP test set: Score: 7255 on 10000 samples\n",
      "CNN Test Score: 3656\n",
      "\n",
      "\n",
      "Penalty: 9\n",
      "GP test set: Score: 7179 on 10000 samples\n",
      "CNN Test Score: 2070\n",
      "\n",
      "\n"
     ]
    }
   ],
   "source": [
    "awgn_cnn_scores, awgn_gp_scores = compare_rejection_models('data/mnist-with-awgn.mat', cnn_model, model, likelihood)"
   ]
  },
  {
   "cell_type": "markdown",
   "metadata": {},
   "source": [
    "## Motion Blur  Data"
   ]
  },
  {
   "cell_type": "markdown",
   "metadata": {},
   "source": [
    "### Standard"
   ]
  },
  {
   "cell_type": "code",
   "execution_count": 4,
   "metadata": {},
   "outputs": [
    {
     "name": "stdout",
     "output_type": "stream",
     "text": [
      "GP test set: Accuracy: 8047/10000 (80%)\n"
     ]
    }
   ],
   "source": [
    "test_loader = get_data_loader('data/mnist-with-motion-blur.mat')\n",
    "\n",
    "with gpytorch.settings.use_toeplitz(False), gpytorch.settings.max_preconditioner_size(0):\n",
    "    correct_mb_var, wrong_mb_var = test_model(model, likelihood, test_loader)"
   ]
  },
  {
   "cell_type": "code",
   "execution_count": 7,
   "metadata": {},
   "outputs": [
    {
     "name": "stdout",
     "output_type": "stream",
     "text": [
      "Correct average variance is 0.04824215918779373\n",
      "Wrong average variance is 0.09255137294530869\n"
     ]
    }
   ],
   "source": [
    "print(\"Correct average variance is {}\".format(correct_mb_var.mean()))\n",
    "print(\"Wrong average variance is {}\".format(wrong_mb_var.mean()))"
   ]
  },
  {
   "cell_type": "code",
   "execution_count": 12,
   "metadata": {},
   "outputs": [
    {
     "name": "stdout",
     "output_type": "stream",
     "text": [
      "CNN Test accuracy: 0.9457\n"
     ]
    }
   ],
   "source": [
    "correct_cnn_mb_var, wrong_cnn_mb_var = test_cnn_model(cnn_model, 'data/mnist-with-motion-blur.mat')"
   ]
  },
  {
   "cell_type": "code",
   "execution_count": 13,
   "metadata": {},
   "outputs": [
    {
     "name": "stdout",
     "output_type": "stream",
     "text": [
      "Correct CNN average variance is 0.005633368156850338\n",
      "Wrong CNN average variance is 0.001086836215108633\n"
     ]
    }
   ],
   "source": [
    "print(\"Correct CNN average variance is {}\".format(correct_cnn_mb_var.mean()))\n",
    "print(\"Wrong CNN average variance is {}\".format(wrong_cnn_mb_var.mean()))"
   ]
  },
  {
   "cell_type": "markdown",
   "metadata": {},
   "source": [
    "### With Rejection"
   ]
  },
  {
   "cell_type": "code",
   "execution_count": 116,
   "metadata": {},
   "outputs": [
    {
     "name": "stdout",
     "output_type": "stream",
     "text": [
      "Penalty: 1\n",
      "GP test set: Score: 3746 on 10000 samples\n",
      "CNN Test Score: 8914\n",
      "\n",
      "\n",
      "Penalty: 3\n",
      "GP test set: Score: 3601 on 10000 samples\n",
      "CNN Test Score: 7828\n",
      "\n",
      "\n",
      "Penalty: 5\n",
      "GP test set: Score: 3369 on 10000 samples\n",
      "CNN Test Score: 6742\n",
      "\n",
      "\n",
      "Penalty: 7\n",
      "GP test set: Score: 3224 on 10000 samples\n",
      "CNN Test Score: 5656\n",
      "\n",
      "\n",
      "Penalty: 9\n",
      "GP test set: Score: 3072 on 10000 samples\n",
      "CNN Test Score: 4570\n",
      "\n",
      "\n"
     ]
    }
   ],
   "source": [
    "mb_cnn_scores, mb_gp_scores = compare_rejection_models('data/mnist-with-motion-blur.mat')"
   ]
  },
  {
   "cell_type": "markdown",
   "metadata": {},
   "source": [
    "## Reduced Contrast + AWGN Data"
   ]
  },
  {
   "cell_type": "markdown",
   "metadata": {},
   "source": [
    "### Standard"
   ]
  },
  {
   "cell_type": "code",
   "execution_count": 5,
   "metadata": {},
   "outputs": [
    {
     "name": "stdout",
     "output_type": "stream",
     "text": [
      "GP test set: Accuracy: 2576/10000 (25%)\n"
     ]
    }
   ],
   "source": [
    "test_loader = get_data_loader('data/mnist-with-reduced-contrast-and-awgn.mat')\n",
    "\n",
    "with gpytorch.settings.use_toeplitz(False), gpytorch.settings.max_preconditioner_size(0):\n",
    "    correct_rc_awgn_var, wrong_rc_awgn_var = test_model(model, likelihood, test_loader)"
   ]
  },
  {
   "cell_type": "code",
   "execution_count": 6,
   "metadata": {},
   "outputs": [
    {
     "name": "stdout",
     "output_type": "stream",
     "text": [
      "Correct average variance is 0.07280434668064117\n",
      "Wrong average variance is 0.0843256413936615\n"
     ]
    }
   ],
   "source": [
    "print(\"Correct average variance is {}\".format(correct_rc_awgn_var.mean()))\n",
    "print(\"Wrong average variance is {}\".format(wrong_rc_awgn_var.mean()))"
   ]
  },
  {
   "cell_type": "code",
   "execution_count": 15,
   "metadata": {},
   "outputs": [
    {
     "name": "stdout",
     "output_type": "stream",
     "text": [
      "CNN Test accuracy: 0.7675\n"
     ]
    }
   ],
   "source": [
    "correct_cnn_rc_awgn_var, wrong_cnn_rc_awgn_var = test_cnn_model(cnn_model, 'data/mnist-with-reduced-contrast-and-awgn.mat')"
   ]
  },
  {
   "cell_type": "code",
   "execution_count": 16,
   "metadata": {},
   "outputs": [
    {
     "name": "stdout",
     "output_type": "stream",
     "text": [
      "Correct CNN average variance is 0.001813391805626452\n",
      "Wrong CNN average variance is 0.00021601543994620442\n"
     ]
    }
   ],
   "source": [
    "print(\"Correct CNN average variance is {}\".format(correct_cnn_rc_awgn_var.mean()))\n",
    "print(\"Wrong CNN average variance is {}\".format(wrong_cnn_rc_awgn_var.mean()))"
   ]
  },
  {
   "cell_type": "markdown",
   "metadata": {},
   "source": [
    "### With Rejection"
   ]
  },
  {
   "cell_type": "code",
   "execution_count": 117,
   "metadata": {},
   "outputs": [
    {
     "name": "stdout",
     "output_type": "stream",
     "text": [
      "Penalty: 1\n",
      "GP test set: Score: 323 on 10000 samples\n",
      "CNN Test Score: 5350\n",
      "\n",
      "\n",
      "Penalty: 3\n",
      "GP test set: Score: 202 on 10000 samples\n",
      "CNN Test Score: 700\n",
      "\n",
      "\n",
      "Penalty: 5\n",
      "GP test set: Score: 111 on 10000 samples\n",
      "CNN Test Score: -3950\n",
      "\n",
      "\n",
      "Penalty: 7\n",
      "GP test set: Score: -43 on 10000 samples\n",
      "CNN Test Score: -8600\n",
      "\n",
      "\n",
      "Penalty: 9\n",
      "GP test set: Score: -59 on 10000 samples\n",
      "CNN Test Score: -13250\n",
      "\n",
      "\n"
     ]
    }
   ],
   "source": [
    "rc_awgn_cnn_scores, rc_awgn_gp_scores = compare_rejection_models('data/mnist-with-reduced-contrast-and-awgn.mat')"
   ]
  },
  {
   "cell_type": "code",
   "execution_count": 120,
   "metadata": {},
   "outputs": [
    {
     "data": {
      "image/png": "[encoded data removed]",
      "text/plain": [
       "<Figure size 1080x216 with 3 Axes>"
      ]
     },
     "metadata": {
      "needs_background": "light"
     },
     "output_type": "display_data"
    }
   ],
   "source": [
    "cnn_scores = [awgn_cnn_scores, mb_cnn_scores, rc_awgn_cnn_scores]\n",
    "gp_scores = [awgn_gp_scores, mb_gp_scores, rc_awgn_gp_scores]\n",
    "x = [1, 3, 5, 7, 9]\n",
    "datasets = ['Additive White Gaussian\\n Noise N-Mnist', 'Motion Blur N-Mnist', 'Reduced Contrast and\\n Additive White Gaussian Noise N-Mnist']\n",
    "labels = ['awgn', 'mb', 'rc+awgn']\n",
    "\n",
    "with matplotlib.rc_context({'figure.figsize': [15, 3], 'axes.titlesize': 10}):\n",
    "    fig = plt.figure()\n",
    "    for i, _ in enumerate(cnn_scores):\n",
    "        ax = fig.add_subplot(1, 3, i+1)  # 2 rows of panels, 3 columns\n",
    "        ax.plot(x, cnn_scores[i], label='CNN Score')\n",
    "        ax.plot(x, gp_scores[i], label='GP Score')\n",
    "        ax.legend()\n",
    "#         ax.set_ylabel('Log Perplexity')\n",
    "        ax.set_xlabel('Misclassification penalty')\n",
    "        ax.set_title('Score with rejection on the {} dataset'.format(datasets[i]))\n",
    "    fig.subplots_adjust(left=0.1, right=0.9, top=1.1, bottom=0.1)\n",
    "    pylab.savefig('plots/rejection_scores.pdf', bbox_inches='tight')"
   ]
  },
  {
   "cell_type": "markdown",
   "metadata": {},
   "source": [
    "## Variance"
   ]
  },
  {
   "cell_type": "code",
   "execution_count": 121,
   "metadata": {},
   "outputs": [
    {
     "data": {
      "image/png": "[encoded data removed]",
      "text/plain": [
       "<Figure size 1080x216 with 3 Axes>"
      ]
     },
     "metadata": {
      "needs_background": "light"
     },
     "output_type": "display_data"
    }
   ],
   "source": [
    "correct_variances = [correct_awgn_var, correct_mb_var, correct_rc_awgn_var]\n",
    "wrong_variances = [wrong_awgn_var, wrong_mb_var, wrong_rc_awgn_var]\n",
    "datasets = ['Additive White Gaussian\\n Noise N-Mnist', 'Motion Blur N-Mnist', 'Reduced Contrast and\\n Additive White Gaussian Noise N-Mnist']\n",
    "labels = ['awgn', 'mb', 'rc+awgn']\n",
    "\n",
    "with matplotlib.rc_context({'figure.figsize': [15, 3], 'axes.titlesize': 10}):\n",
    "    fig = plt.figure()\n",
    "    for i, var in enumerate(variances):\n",
    "        ax = fig.add_subplot(1, 3, i+1)  # 2 rows of panels, 3 columns\n",
    "        ax.hist(correct_variances[i], label='Correctly classified samples'.format(labels[i]), bins=100, alpha=1)\n",
    "        ax.hist(wrong_variances[i], label='Incorrectly classified samples'.format(labels[i]), bins=100, alpha=0.7)\n",
    "        ax.legend()\n",
    "#         ax.set_ylabel('Log Perplexity')\n",
    "        ax.set_xlabel('Variance of Prediction')\n",
    "        ax.set_title('Variance on the {} dataset'.format(datasets[i]))\n",
    "    fig.subplots_adjust(left=0.1, right=0.9, top=1.1, bottom=0.1)\n",
    "    pylab.savefig('plots/pred_var.pdf', bbox_inches='tight')"
   ]
  },
  {
   "cell_type": "code",
   "execution_count": null,
   "metadata": {},
   "outputs": [],
   "source": []
  },
  {
   "cell_type": "code",
   "execution_count": null,
   "metadata": {},
   "outputs": [],
   "source": []
  },
  {
   "cell_type": "code",
   "execution_count": null,
   "metadata": {},
   "outputs": [],
   "source": []
  },
  {
   "cell_type": "code",
   "execution_count": null,
   "metadata": {},
   "outputs": [],
   "source": []
  },
  {
   "cell_type": "code",
   "execution_count": null,
   "metadata": {},
   "outputs": [],
   "source": []
  },
  {
   "cell_type": "code",
   "execution_count": null,
   "metadata": {},
   "outputs": [],
   "source": []
  },
  {
   "cell_type": "code",
   "execution_count": null,
   "metadata": {},
   "outputs": [],
   "source": []
  },
  {
   "cell_type": "code",
   "execution_count": null,
   "metadata": {},
   "outputs": [],
   "source": []
  },
  {
   "cell_type": "code",
   "execution_count": null,
   "metadata": {},
   "outputs": [],
   "source": []
  },
  {
   "cell_type": "code",
   "execution_count": null,
   "metadata": {},
   "outputs": [],
   "source": []
  },
  {
   "cell_type": "code",
   "execution_count": null,
   "metadata": {},
   "outputs": [],
   "source": []
  },
  {
   "cell_type": "code",
   "execution_count": null,
   "metadata": {},
   "outputs": [],
   "source": []
  },
  {
   "cell_type": "code",
   "execution_count": null,
   "metadata": {},
   "outputs": [],
   "source": []
  },
  {
   "cell_type": "code",
   "execution_count": null,
   "metadata": {},
   "outputs": [],
   "source": []
  },
  {
   "cell_type": "code",
   "execution_count": null,
   "metadata": {},
   "outputs": [],
   "source": []
  },
  {
   "cell_type": "markdown",
   "metadata": {},
   "source": [
    "## CNN Model"
   ]
  },
  {
   "cell_type": "code",
   "execution_count": null,
   "metadata": {},
   "outputs": [],
   "source": [
    "cnn_model = load_model('CNN_mnist_model.h5')"
   ]
  },
  {
   "cell_type": "markdown",
   "metadata": {},
   "source": [
    "## GP Model"
   ]
  },
  {
   "cell_type": "code",
   "execution_count": null,
   "metadata": {},
   "outputs": [],
   "source": [
    "gp_model = pickle.load( open( \"GP_mnist_model.pkl\", \"rb\" ) )\n",
    "cnn_embedding_model = load_model('CNN_embedding_mnist_model.h5')"
   ]
  },
  {
   "cell_type": "markdown",
   "metadata": {},
   "source": [
    "## Load Data"
   ]
  },
  {
   "cell_type": "code",
   "execution_count": null,
   "metadata": {},
   "outputs": [],
   "source": [
    "num_classes = 10"
   ]
  },
  {
   "cell_type": "code",
   "execution_count": null,
   "metadata": {},
   "outputs": [],
   "source": [
    "mat = scipy.io.loadmat('data/mnist-with-awgn.mat')\n",
    "\n",
    "x_train = mat['train_x']\n",
    "y_train = mat['train_y']\n",
    "\n",
    "x_test = mat['test_x']\n",
    "y_test = mat['test_y']"
   ]
  },
  {
   "cell_type": "code",
   "execution_count": null,
   "metadata": {},
   "outputs": [],
   "source": [
    "def read_data(mat_file, num_classes):\n",
    "    mat = scipy.io.loadmat(mat_file)\n",
    "\n",
    "    x_train = mat['train_x']\n",
    "    y_train = mat['train_y']\n",
    "\n",
    "    x_test = mat['test_x']\n",
    "    y_test = mat['test_y']\n",
    "    \n",
    "    # input image dimensions\n",
    "    img_rows, img_cols = 28, 28\n",
    "\n",
    "    if K.image_data_format() == 'channels_first':\n",
    "        x_train = x_train.reshape(x_train.shape[0], 1, img_rows, img_cols)\n",
    "        x_test = x_test.reshape(x_test.shape[0], 1, img_rows, img_cols)\n",
    "        input_shape = (1, img_rows, img_cols)\n",
    "    else:\n",
    "        x_train = x_train.reshape(x_train.shape[0], img_rows, img_cols, 1)\n",
    "        x_test = x_test.reshape(x_test.shape[0], img_rows, img_cols, 1)\n",
    "        input_shape = (img_rows, img_cols, 1)\n",
    "\n",
    "    x_train = x_train.astype('float32')\n",
    "    x_test = x_test.astype('float32')\n",
    "    x_train /= 255\n",
    "    x_test /= 255\n",
    "    print('x_train shape:', x_train.shape)\n",
    "    print('y_train shape:', y_train.shape)\n",
    "    print(x_train.shape[0], 'train samples')\n",
    "    print(x_test.shape[0], 'test samples')\n",
    "    \n",
    "    return x_test, y_test"
   ]
  },
  {
   "cell_type": "markdown",
   "metadata": {},
   "source": [
    "## AWGN Data"
   ]
  },
  {
   "cell_type": "code",
   "execution_count": null,
   "metadata": {},
   "outputs": [],
   "source": [
    "x_test, y_test = read_data('data/mnist-with-awgn.mat', num_classes)"
   ]
  },
  {
   "cell_type": "code",
   "execution_count": null,
   "metadata": {},
   "outputs": [],
   "source": [
    "x_test[0]"
   ]
  },
  {
   "cell_type": "code",
   "execution_count": null,
   "metadata": {},
   "outputs": [],
   "source": [
    "score = cnn_model.evaluate(x_test, y_test, verbose=0)\n",
    "print('CNN Test loss:', score[0])\n",
    "print('CNN Test accuracy:', score[1])"
   ]
  },
  {
   "cell_type": "code",
   "execution_count": null,
   "metadata": {},
   "outputs": [],
   "source": [
    "h_test = cnn_embedding_model.predict(x_test)\n",
    "y_test_num = np.array([np.argmax(y) for y in y_test])"
   ]
  },
  {
   "cell_type": "code",
   "execution_count": null,
   "metadata": {},
   "outputs": [],
   "source": [
    "%%time\n",
    "accuracy = gp_model.score(h_test, y_test_num)\n",
    "print('GP Test accuracy:', accuracy)"
   ]
  },
  {
   "cell_type": "markdown",
   "metadata": {},
   "source": [
    "## Motion Blur Data"
   ]
  },
  {
   "cell_type": "code",
   "execution_count": null,
   "metadata": {},
   "outputs": [],
   "source": [
    "x_test, y_test = read_data('data/mnist-with-motion-blur.mat', num_classes)"
   ]
  },
  {
   "cell_type": "code",
   "execution_count": null,
   "metadata": {},
   "outputs": [],
   "source": [
    "score = cnn_model.evaluate(x_test, y_test, verbose=0)\n",
    "print('CNN Test loss:', score[0])\n",
    "print('CNN Test accuracy:', score[1])"
   ]
  },
  {
   "cell_type": "code",
   "execution_count": null,
   "metadata": {},
   "outputs": [],
   "source": [
    "h_test = cnn_embedding_model.predict(x_test)\n",
    "y_test_num = np.array([np.argmax(y) for y in y_test])"
   ]
  },
  {
   "cell_type": "code",
   "execution_count": null,
   "metadata": {},
   "outputs": [],
   "source": [
    "%%time\n",
    "accuracy = gp_model.score(h_test, y_test_num)\n",
    "print('GP Test accuracy:', accuracy)"
   ]
  },
  {
   "cell_type": "markdown",
   "metadata": {},
   "source": [
    "## Reduced Contrast + AWGN Data"
   ]
  },
  {
   "cell_type": "code",
   "execution_count": null,
   "metadata": {},
   "outputs": [],
   "source": [
    "x_test, y_test = read_data('data/mnist-with-reduced-contrast-and-awgn.mat', num_classes)"
   ]
  },
  {
   "cell_type": "code",
   "execution_count": null,
   "metadata": {},
   "outputs": [],
   "source": [
    "score = cnn_model.evaluate(x_test, y_test, verbose=0)\n",
    "print('CNN Test loss:', score[0])\n",
    "print('CNN Test accuracy:', score[1])"
   ]
  },
  {
   "cell_type": "code",
   "execution_count": null,
   "metadata": {},
   "outputs": [],
   "source": [
    "h_test = cnn_embedding_model.predict(x_test)\n",
    "y_test_num = np.array([np.argmax(y) for y in y_test])"
   ]
  },
  {
   "cell_type": "code",
   "execution_count": null,
   "metadata": {},
   "outputs": [],
   "source": [
    "%%time\n",
    "accuracy = gp_model.score(h_test, y_test_num)\n",
    "print('GP Test accuracy:', accuracy)"
   ]
  },
  {
   "cell_type": "markdown",
   "metadata": {},
   "source": [
    "## Adversarial Attack"
   ]
  },
  {
   "cell_type": "code",
   "execution_count": null,
   "metadata": {},
   "outputs": [],
   "source": [
    "from cleverhans.attacks import FastGradientMethod\n",
    "from cleverhans.attacks import BasicIterativeMethod\n",
    "from cleverhans.utils_keras import KerasModelWrapper\n",
    "from keras import backend\n"
   ]
  },
  {
   "cell_type": "code",
   "execution_count": null,
   "metadata": {},
   "outputs": [],
   "source": [
    "# Retrieve the tensorflow session\n",
    "sess =  backend.get_session()"
   ]
  },
  {
   "cell_type": "code",
   "execution_count": null,
   "metadata": {},
   "outputs": [],
   "source": [
    "# Initialize the Fast Gradient Sign Method (FGSM) attack object and \n",
    "# use it to create adversarial examples as numpy arrays.\n",
    "wrap = KerasModelWrapper(cnn_model)\n",
    "fgsm = FastGradientMethod(wrap, sess=sess)\n",
    "fgsm_params = {'eps': 0.3,\n",
    "               'clip_min': 0.,\n",
    "               'clip_max': 1.}\n",
    "adv_x = fgsm.generate_np(x_test, **fgsm_params)"
   ]
  },
  {
   "cell_type": "code",
   "execution_count": null,
   "metadata": {},
   "outputs": [],
   "source": [
    "score = cnn_model.evaluate(adv_x, y_test, verbose=0)\n",
    "print('CNN adversarial Test loss:', score[0])\n",
    "print('CNN adversarial Test accuracy:', score[1])"
   ]
  },
  {
   "cell_type": "code",
   "execution_count": null,
   "metadata": {},
   "outputs": [],
   "source": [
    "# Initialize the Fast Gradient Sign Method (FGSM) attack object and \n",
    "# use it to create adversarial examples as numpy arrays.\n",
    "wrap = KerasModelWrapper(gp_model)\n",
    "fgsm = FastGradientMethod(wrap, sess=sess)\n",
    "fgsm_params = {'eps': 0.3,\n",
    "               'clip_min': 0.,\n",
    "               'clip_max': 1.}\n",
    "adv_x = fgsm.generate_np(h_test, **fgsm_params)"
   ]
  },
  {
   "cell_type": "code",
   "execution_count": null,
   "metadata": {},
   "outputs": [],
   "source": []
  }
 ],
 "metadata": {
  "kernelspec": {
   "display_name": "le49",
   "language": "python",
   "name": "le49"
  },
  "language_info": {
   "codemirror_mode": {
    "name": "ipython",
    "version": 3
   },
   "file_extension": ".py",
   "mimetype": "text/x-python",
   "name": "python",
   "nbconvert_exporter": "python",
   "pygments_lexer": "ipython3",
   "version": "3.6.4"
  }
 },
 "nbformat": 4,
 "nbformat_minor": 2
}
